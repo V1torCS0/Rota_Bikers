{
  "cells": [
    {
      "cell_type": "markdown",
      "metadata": {
        "id": "td9rTTfbWTVt"
      },
      "source": [
        "# Análise Comparativa\n"
      ]
    },
    {
      "cell_type": "markdown",
      "metadata": {
        "id": "RTxT--EOWXI2"
      },
      "source": [
        "Essa etapa tem como objetivo comparar alguns modelos para encontrar um que possa ser melhor utilizado dentro do problema, para isso antes realizamos a preparação e o pré-processamento dos dados."
      ]
    },
    {
      "cell_type": "markdown",
      "metadata": {
        "id": "mdp_i_zVWpbe"
      },
      "source": [
        "## Preparação dos dados"
      ]
    },
    {
      "cell_type": "code",
      "execution_count": 18,
      "metadata": {
        "id": "f7MsxC1QWPcB"
      },
      "outputs": [],
      "source": [
        "from IPython.display import Markdown\n",
        "import pandas as pd\n",
        "\n",
        "from sklearn.preprocessing import StandardScaler\n",
        "from sklearn.linear_model import LogisticRegression\n",
        "from sklearn.pipeline import Pipeline\n",
        "from sklearn.impute import SimpleImputer, KNNImputer\n",
        "from sklearn.preprocessing import MinMaxScaler, OneHotEncoder, RobustScaler\n",
        "from sklearn.base import BaseEstimator, TransformerMixin\n",
        "from sklearn.compose import ColumnTransformer\n",
        "from sklearn.svm import SVC\n",
        "from sklearn.metrics import accuracy_score\n",
        "from sklearn.model_selection import cross_validate, train_test_split, ShuffleSplit, GridSearchCV\n",
        "from sklearn.linear_model import LinearRegression\n",
        "from sklearn.neighbors import KNeighborsClassifier\n",
        "from sklearn.naive_bayes import BernoulliNB\n",
        "from sklearn.metrics import mean_squared_error"
      ]
    },
    {
      "cell_type": "code",
      "execution_count": 6,
      "metadata": {
        "colab": {
          "base_uri": "https://localhost:8080/",
          "height": 118
        },
        "id": "ZFbI_hLVW7cz",
        "outputId": "be3da816-98af-4f82-fbc3-94253d5c0bd3"
      },
      "outputs": [
        {
          "data": {
            "text/html": [
              "<div>\n",
              "<style scoped>\n",
              "    .dataframe tbody tr th:only-of-type {\n",
              "        vertical-align: middle;\n",
              "    }\n",
              "\n",
              "    .dataframe tbody tr th {\n",
              "        vertical-align: top;\n",
              "    }\n",
              "\n",
              "    .dataframe thead th {\n",
              "        text-align: right;\n",
              "    }\n",
              "</style>\n",
              "<table border=\"1\" class=\"dataframe\">\n",
              "  <thead>\n",
              "    <tr style=\"text-align: right;\">\n",
              "      <th></th>\n",
              "      <th>instant</th>\n",
              "      <th>dteday</th>\n",
              "      <th>season</th>\n",
              "      <th>yr</th>\n",
              "      <th>mnth</th>\n",
              "      <th>holiday</th>\n",
              "      <th>weekday</th>\n",
              "      <th>workingday</th>\n",
              "      <th>weathersit</th>\n",
              "      <th>temp</th>\n",
              "      <th>atemp</th>\n",
              "      <th>hum</th>\n",
              "      <th>windspeed</th>\n",
              "      <th>casual</th>\n",
              "      <th>registered</th>\n",
              "      <th>cnt</th>\n",
              "    </tr>\n",
              "  </thead>\n",
              "  <tbody>\n",
              "    <tr>\n",
              "      <th>0</th>\n",
              "      <td>1</td>\n",
              "      <td>2011-01-01</td>\n",
              "      <td>1</td>\n",
              "      <td>0</td>\n",
              "      <td>1</td>\n",
              "      <td>0</td>\n",
              "      <td>6</td>\n",
              "      <td>0</td>\n",
              "      <td>2</td>\n",
              "      <td>0.344167</td>\n",
              "      <td>0.363625</td>\n",
              "      <td>0.805833</td>\n",
              "      <td>0.160446</td>\n",
              "      <td>331</td>\n",
              "      <td>654</td>\n",
              "      <td>985</td>\n",
              "    </tr>\n",
              "    <tr>\n",
              "      <th>1</th>\n",
              "      <td>2</td>\n",
              "      <td>2011-01-02</td>\n",
              "      <td>1</td>\n",
              "      <td>0</td>\n",
              "      <td>1</td>\n",
              "      <td>0</td>\n",
              "      <td>0</td>\n",
              "      <td>0</td>\n",
              "      <td>2</td>\n",
              "      <td>0.363478</td>\n",
              "      <td>0.353739</td>\n",
              "      <td>0.696087</td>\n",
              "      <td>0.248539</td>\n",
              "      <td>131</td>\n",
              "      <td>670</td>\n",
              "      <td>801</td>\n",
              "    </tr>\n",
              "  </tbody>\n",
              "</table>\n",
              "</div>"
            ],
            "text/plain": [
              "   instant      dteday  season  yr  mnth  holiday  weekday  workingday  \\\n",
              "0        1  2011-01-01       1   0     1        0        6           0   \n",
              "1        2  2011-01-02       1   0     1        0        0           0   \n",
              "\n",
              "   weathersit      temp     atemp       hum  windspeed  casual  registered  \\\n",
              "0           2  0.344167  0.363625  0.805833   0.160446     331         654   \n",
              "1           2  0.363478  0.353739  0.696087   0.248539     131         670   \n",
              "\n",
              "   cnt  \n",
              "0  985  \n",
              "1  801  "
            ]
          },
          "metadata": {},
          "output_type": "display_data"
        },
        {
          "data": {
            "text/html": [
              "<div>\n",
              "<style scoped>\n",
              "    .dataframe tbody tr th:only-of-type {\n",
              "        vertical-align: middle;\n",
              "    }\n",
              "\n",
              "    .dataframe tbody tr th {\n",
              "        vertical-align: top;\n",
              "    }\n",
              "\n",
              "    .dataframe thead th {\n",
              "        text-align: right;\n",
              "    }\n",
              "</style>\n",
              "<table border=\"1\" class=\"dataframe\">\n",
              "  <thead>\n",
              "    <tr style=\"text-align: right;\">\n",
              "      <th></th>\n",
              "      <th>variavel</th>\n",
              "      <th>descricao</th>\n",
              "      <th>tipo</th>\n",
              "      <th>subtipo</th>\n",
              "    </tr>\n",
              "  </thead>\n",
              "  <tbody>\n",
              "    <tr>\n",
              "      <th>0</th>\n",
              "      <td>Instant</td>\n",
              "      <td>Índice de registro</td>\n",
              "      <td>Quantitativa</td>\n",
              "      <td>Discreta</td>\n",
              "    </tr>\n",
              "    <tr>\n",
              "      <th>1</th>\n",
              "      <td>Dteday</td>\n",
              "      <td>Data</td>\n",
              "      <td>Qualitativa</td>\n",
              "      <td>Ordinal</td>\n",
              "    </tr>\n",
              "  </tbody>\n",
              "</table>\n",
              "</div>"
            ],
            "text/plain": [
              "  variavel           descricao          tipo   subtipo\n",
              "0  Instant  Índice de registro  Quantitativa  Discreta\n",
              "1   Dteday                Data   Qualitativa   Ordinal"
            ]
          },
          "metadata": {},
          "output_type": "display_data"
        }
      ],
      "source": [
        "# Ler o csv\n",
        "df_day = pd.read_csv('../data/raw/day.csv')\n",
        "\n",
        "# Ler o dicionário de dados\n",
        "df_dict = pd.read_csv('../data/external/dicionario_dados_day.csv')\n",
        "display (df_day.head (2))\n",
        "display (df_dict.head (2))"
      ]
    },
    {
      "cell_type": "markdown",
      "metadata": {
        "id": "4x_XBTyLYYQu"
      },
      "source": [
        "### Tratamento dos dados"
      ]
    },
    {
      "cell_type": "markdown",
      "metadata": {
        "id": "CWa8oRTHYqvk"
      },
      "source": [
        "Aqui realizamos a normalização, codificação e o tratamento de dados discrepantes e/ou faltantes dentro do conjunto de dados. Através do dicionário de dados apresentado no notebook/01_exploratory_data_analysis, é possível perceber que as colunas *casual* e *registered* são deviradas da nossa variável alvo, ou seja, a soma das duas é equivalente ao resultado da coluna **cnt**. Portanto, serão excluídos durante o tratamento e não seguirão para o experimento. A coluna *dteday* também não possui informações relevantes para esta análise.\n",
        "\n",
        "Foi verificado anteriormente que o dataset não possui valores nulos ou outliers.\n",
        "\n",
        "Além disso, as colunas categóricas já estão codificadas em sequencias numéricas, enquanto as variáveis contínuas estão calculadas dentro da mesma escala."
      ]
    },
    {
      "cell_type": "code",
      "execution_count": 7,
      "metadata": {
        "colab": {
          "base_uri": "https://localhost:8080/",
          "height": 112
        },
        "id": "k0TlkqdYfSz5",
        "outputId": "e1ebdaf4-bfc3-412e-c5d5-db95a24f4f38"
      },
      "outputs": [
        {
          "data": {
            "text/html": [
              "<div>\n",
              "<style scoped>\n",
              "    .dataframe tbody tr th:only-of-type {\n",
              "        vertical-align: middle;\n",
              "    }\n",
              "\n",
              "    .dataframe tbody tr th {\n",
              "        vertical-align: top;\n",
              "    }\n",
              "\n",
              "    .dataframe thead th {\n",
              "        text-align: right;\n",
              "    }\n",
              "</style>\n",
              "<table border=\"1\" class=\"dataframe\">\n",
              "  <thead>\n",
              "    <tr style=\"text-align: right;\">\n",
              "      <th></th>\n",
              "      <th>season</th>\n",
              "      <th>yr</th>\n",
              "      <th>mnth</th>\n",
              "      <th>holiday</th>\n",
              "      <th>weekday</th>\n",
              "      <th>workingday</th>\n",
              "      <th>weathersit</th>\n",
              "      <th>temp</th>\n",
              "      <th>atemp</th>\n",
              "      <th>hum</th>\n",
              "      <th>windspeed</th>\n",
              "      <th>cnt</th>\n",
              "    </tr>\n",
              "  </thead>\n",
              "  <tbody>\n",
              "    <tr>\n",
              "      <th>0</th>\n",
              "      <td>1</td>\n",
              "      <td>0</td>\n",
              "      <td>1</td>\n",
              "      <td>0</td>\n",
              "      <td>6</td>\n",
              "      <td>0</td>\n",
              "      <td>2</td>\n",
              "      <td>0.344167</td>\n",
              "      <td>0.363625</td>\n",
              "      <td>0.805833</td>\n",
              "      <td>0.160446</td>\n",
              "      <td>985</td>\n",
              "    </tr>\n",
              "    <tr>\n",
              "      <th>1</th>\n",
              "      <td>1</td>\n",
              "      <td>0</td>\n",
              "      <td>1</td>\n",
              "      <td>0</td>\n",
              "      <td>0</td>\n",
              "      <td>0</td>\n",
              "      <td>2</td>\n",
              "      <td>0.363478</td>\n",
              "      <td>0.353739</td>\n",
              "      <td>0.696087</td>\n",
              "      <td>0.248539</td>\n",
              "      <td>801</td>\n",
              "    </tr>\n",
              "  </tbody>\n",
              "</table>\n",
              "</div>"
            ],
            "text/plain": [
              "   season  yr  mnth  holiday  weekday  workingday  weathersit      temp  \\\n",
              "0       1   0     1        0        6           0           2  0.344167   \n",
              "1       1   0     1        0        0           0           2  0.363478   \n",
              "\n",
              "      atemp       hum  windspeed  cnt  \n",
              "0  0.363625  0.805833   0.160446  985  \n",
              "1  0.353739  0.696087   0.248539  801  "
            ]
          },
          "execution_count": 7,
          "metadata": {},
          "output_type": "execute_result"
        }
      ],
      "source": [
        "df_day = df_day.drop(['casual', 'registered', 'dteday', 'instant'], axis = 1)\n",
        "df_day.head(2)"
      ]
    },
    {
      "cell_type": "code",
      "execution_count": 8,
      "metadata": {
        "colab": {
          "base_uri": "https://localhost:8080/"
        },
        "id": "5OWKlZtn2P1-",
        "outputId": "16f63ead-f83a-4df2-98fa-0ce8c558c125"
      },
      "outputs": [
        {
          "data": {
            "text/plain": [
              "Index(['season', 'yr', 'mnth', 'holiday', 'weekday', 'workingday',\n",
              "       'weathersit', 'temp', 'atemp', 'hum', 'windspeed', 'cnt'],\n",
              "      dtype='object')"
            ]
          },
          "execution_count": 8,
          "metadata": {},
          "output_type": "execute_result"
        }
      ],
      "source": [
        "df_day.columns"
      ]
    },
    {
      "cell_type": "markdown",
      "metadata": {
        "id": "pqfUoo1HdGet"
      },
      "source": [
        "- Tentativa\n"
      ]
    },
    {
      "cell_type": "code",
      "execution_count": 9,
      "metadata": {
        "id": "qSKN-m77idF6"
      },
      "outputs": [],
      "source": [
        "target_column = 'cnt' #Variável alvo\n",
        "\n",
        "#Obter uma lista das variáveis discretas\n",
        "discrete_columns = (\n",
        "    df_dict\n",
        "    .query('tipo == \"Discreta\" and variavel != @target_column')\n",
        "    .variavel\n",
        "    .to_list()\n",
        ")\n",
        "\n",
        "#Obter uma lista das váriaveis nominais\n",
        "nominal_columns = (\n",
        "    df_dict\n",
        "    .query('tipo == \"Nominal\"')\n",
        "    .variavel\n",
        "    .to_list()\n",
        ")\n",
        "\n",
        "#Obter uma lista das váriaveis contínuas\n",
        "continuous_columns = (\n",
        "    df_dict\n",
        "    .query('tipo == \"Contínua\"')\n",
        "    .variavel\n",
        "    .to_list()\n",
        ")\n",
        "\n",
        "#Obter uma lista das váriaveis ordinais\n",
        "ordinal_columns = (\n",
        "    df_dict\n",
        "    .query('tipo == \"Ordinal\"')\n",
        "    .variavel\n",
        "    .to_list()\n",
        ")"
      ]
    },
    {
      "cell_type": "code",
      "execution_count": 14,
      "metadata": {
        "id": "gzSdLDPVlFpj"
      },
      "outputs": [],
      "source": [
        "#Para cada tipo de variavel, será criado uma pipeline para tratar\n",
        "\n",
        "discrete_preprocessor = Pipeline([\n",
        "    # Tratamento de dados discrepantes\n",
        "    ('missing', SimpleImputer(strategy='mean')), # Tratamento de dados faltantes\n",
        "    # Seleção de variáveis\n",
        "    ('normalization', MinMaxScaler()) # Normalização\n",
        "])\n",
        "\n",
        "nominal_preprocessor = Pipeline([\n",
        "    # Tratamento de dados discrepantes\n",
        "    ('missing', SimpleImputer(strategy='most_frequent')), # Tratamento de dados faltantes\n",
        "    ('encoder', OneHotEncoder(sparse=False)), # Codificação de variáveis\n",
        "    # Seleção de variáveis\n",
        "    ('normalization', MinMaxScaler()), # Normalização\n",
        "]),\n",
        "continuous_preprocessor = Pipeline(steps=[\n",
        "    # Tratamento de dados discrepantes\n",
        "    ('missing', KNNImputer(n_neighbors=5)), # Tratamento de dados faltantes\n",
        "    # Seleção de variáveis\n",
        "    ('normalization', RobustScaler()) # Normalização\n",
        "]),\n",
        "ordinal_preprocessor = Pipeline([\n",
        "    # Tratamento de dados discrepantes\n",
        "    ('missing', SimpleImputer(strategy='most_frequent')), # Tratamento de dados faltantes\n",
        "    ('encoder', OneHotEncoder(sparse=False)), # Codificação de variáveis\n",
        "    # Seleção de variáveis\n",
        "    ('normalization', MinMaxScaler())]) # Normalização"
      ]
    },
    {
      "cell_type": "code",
      "execution_count": 15,
      "metadata": {
        "colab": {
          "base_uri": "https://localhost:8080/",
          "height": 187
        },
        "id": "WR3_6_5mlNE0",
        "outputId": "b179418a-d128-43e4-ea71-dd3bf1bffba9"
      },
      "outputs": [
        {
          "data": {
            "text/html": [
              "<style>#sk-container-id-1 {color: black;}#sk-container-id-1 pre{padding: 0;}#sk-container-id-1 div.sk-toggleable {background-color: white;}#sk-container-id-1 label.sk-toggleable__label {cursor: pointer;display: block;width: 100%;margin-bottom: 0;padding: 0.3em;box-sizing: border-box;text-align: center;}#sk-container-id-1 label.sk-toggleable__label-arrow:before {content: \"▸\";float: left;margin-right: 0.25em;color: #696969;}#sk-container-id-1 label.sk-toggleable__label-arrow:hover:before {color: black;}#sk-container-id-1 div.sk-estimator:hover label.sk-toggleable__label-arrow:before {color: black;}#sk-container-id-1 div.sk-toggleable__content {max-height: 0;max-width: 0;overflow: hidden;text-align: left;background-color: #f0f8ff;}#sk-container-id-1 div.sk-toggleable__content pre {margin: 0.2em;color: black;border-radius: 0.25em;background-color: #f0f8ff;}#sk-container-id-1 input.sk-toggleable__control:checked~div.sk-toggleable__content {max-height: 200px;max-width: 100%;overflow: auto;}#sk-container-id-1 input.sk-toggleable__control:checked~label.sk-toggleable__label-arrow:before {content: \"▾\";}#sk-container-id-1 div.sk-estimator input.sk-toggleable__control:checked~label.sk-toggleable__label {background-color: #d4ebff;}#sk-container-id-1 div.sk-label input.sk-toggleable__control:checked~label.sk-toggleable__label {background-color: #d4ebff;}#sk-container-id-1 input.sk-hidden--visually {border: 0;clip: rect(1px 1px 1px 1px);clip: rect(1px, 1px, 1px, 1px);height: 1px;margin: -1px;overflow: hidden;padding: 0;position: absolute;width: 1px;}#sk-container-id-1 div.sk-estimator {font-family: monospace;background-color: #f0f8ff;border: 1px dotted black;border-radius: 0.25em;box-sizing: border-box;margin-bottom: 0.5em;}#sk-container-id-1 div.sk-estimator:hover {background-color: #d4ebff;}#sk-container-id-1 div.sk-parallel-item::after {content: \"\";width: 100%;border-bottom: 1px solid gray;flex-grow: 1;}#sk-container-id-1 div.sk-label:hover label.sk-toggleable__label {background-color: #d4ebff;}#sk-container-id-1 div.sk-serial::before {content: \"\";position: absolute;border-left: 1px solid gray;box-sizing: border-box;top: 0;bottom: 0;left: 50%;z-index: 0;}#sk-container-id-1 div.sk-serial {display: flex;flex-direction: column;align-items: center;background-color: white;padding-right: 0.2em;padding-left: 0.2em;position: relative;}#sk-container-id-1 div.sk-item {position: relative;z-index: 1;}#sk-container-id-1 div.sk-parallel {display: flex;align-items: stretch;justify-content: center;background-color: white;position: relative;}#sk-container-id-1 div.sk-item::before, #sk-container-id-1 div.sk-parallel-item::before {content: \"\";position: absolute;border-left: 1px solid gray;box-sizing: border-box;top: 0;bottom: 0;left: 50%;z-index: -1;}#sk-container-id-1 div.sk-parallel-item {display: flex;flex-direction: column;z-index: 1;position: relative;background-color: white;}#sk-container-id-1 div.sk-parallel-item:first-child::after {align-self: flex-end;width: 50%;}#sk-container-id-1 div.sk-parallel-item:last-child::after {align-self: flex-start;width: 50%;}#sk-container-id-1 div.sk-parallel-item:only-child::after {width: 0;}#sk-container-id-1 div.sk-dashed-wrapped {border: 1px dashed gray;margin: 0 0.4em 0.5em 0.4em;box-sizing: border-box;padding-bottom: 0.4em;background-color: white;}#sk-container-id-1 div.sk-label label {font-family: monospace;font-weight: bold;display: inline-block;line-height: 1.2em;}#sk-container-id-1 div.sk-label-container {text-align: center;}#sk-container-id-1 div.sk-container {/* jupyter's `normalize.less` sets `[hidden] { display: none; }` but bootstrap.min.css set `[hidden] { display: none !important; }` so we also need the `!important` here to be able to override the default hidden behavior on the sphinx rendered scikit-learn.org. See: https://github.com/scikit-learn/scikit-learn/issues/21755 */display: inline-block !important;position: relative;}#sk-container-id-1 div.sk-text-repr-fallback {display: none;}</style><div id=\"sk-container-id-1\" class=\"sk-top-container\"><div class=\"sk-text-repr-fallback\"><pre>ColumnTransformer(transformers=[(&#x27;discrete&#x27;,\n",
              "                                 Pipeline(steps=[(&#x27;missing&#x27;, SimpleImputer()),\n",
              "                                                 (&#x27;normalization&#x27;,\n",
              "                                                  MinMaxScaler())]),\n",
              "                                 []),\n",
              "                                (&#x27;nominal&#x27;,\n",
              "                                 (Pipeline(steps=[(&#x27;missing&#x27;,\n",
              "                                                   SimpleImputer(strategy=&#x27;most_frequent&#x27;)),\n",
              "                                                  (&#x27;encoder&#x27;,\n",
              "                                                   OneHotEncoder(sparse=False)),\n",
              "                                                  (&#x27;normalization&#x27;,\n",
              "                                                   MinMaxScaler())]),),\n",
              "                                 []),\n",
              "                                (&#x27;continuous&#x27;,\n",
              "                                 (Pipeline(steps=[(&#x27;missing&#x27;, KNNImputer()),\n",
              "                                                  (&#x27;normalization&#x27;,\n",
              "                                                   RobustScaler())]),),\n",
              "                                 []),\n",
              "                                (&#x27;ordinal&#x27;,\n",
              "                                 Pipeline(steps=[(&#x27;missing&#x27;,\n",
              "                                                  SimpleImputer(strategy=&#x27;most_frequent&#x27;)),\n",
              "                                                 (&#x27;encoder&#x27;,\n",
              "                                                  OneHotEncoder(sparse=False)),\n",
              "                                                 (&#x27;normalization&#x27;,\n",
              "                                                  MinMaxScaler())]),\n",
              "                                 [])])</pre><b>In a Jupyter environment, please rerun this cell to show the HTML representation or trust the notebook. <br />On GitHub, the HTML representation is unable to render, please try loading this page with nbviewer.org.</b></div><div class=\"sk-container\" hidden><div class=\"sk-item sk-dashed-wrapped\"><div class=\"sk-label-container\"><div class=\"sk-label sk-toggleable\"><input class=\"sk-toggleable__control sk-hidden--visually\" id=\"sk-estimator-id-1\" type=\"checkbox\" ><label for=\"sk-estimator-id-1\" class=\"sk-toggleable__label sk-toggleable__label-arrow\">ColumnTransformer</label><div class=\"sk-toggleable__content\"><pre>ColumnTransformer(transformers=[(&#x27;discrete&#x27;,\n",
              "                                 Pipeline(steps=[(&#x27;missing&#x27;, SimpleImputer()),\n",
              "                                                 (&#x27;normalization&#x27;,\n",
              "                                                  MinMaxScaler())]),\n",
              "                                 []),\n",
              "                                (&#x27;nominal&#x27;,\n",
              "                                 (Pipeline(steps=[(&#x27;missing&#x27;,\n",
              "                                                   SimpleImputer(strategy=&#x27;most_frequent&#x27;)),\n",
              "                                                  (&#x27;encoder&#x27;,\n",
              "                                                   OneHotEncoder(sparse=False)),\n",
              "                                                  (&#x27;normalization&#x27;,\n",
              "                                                   MinMaxScaler())]),),\n",
              "                                 []),\n",
              "                                (&#x27;continuous&#x27;,\n",
              "                                 (Pipeline(steps=[(&#x27;missing&#x27;, KNNImputer()),\n",
              "                                                  (&#x27;normalization&#x27;,\n",
              "                                                   RobustScaler())]),),\n",
              "                                 []),\n",
              "                                (&#x27;ordinal&#x27;,\n",
              "                                 Pipeline(steps=[(&#x27;missing&#x27;,\n",
              "                                                  SimpleImputer(strategy=&#x27;most_frequent&#x27;)),\n",
              "                                                 (&#x27;encoder&#x27;,\n",
              "                                                  OneHotEncoder(sparse=False)),\n",
              "                                                 (&#x27;normalization&#x27;,\n",
              "                                                  MinMaxScaler())]),\n",
              "                                 [])])</pre></div></div></div><div class=\"sk-parallel\"><div class=\"sk-parallel-item\"><div class=\"sk-item\"><div class=\"sk-label-container\"><div class=\"sk-label sk-toggleable\"><input class=\"sk-toggleable__control sk-hidden--visually\" id=\"sk-estimator-id-2\" type=\"checkbox\" ><label for=\"sk-estimator-id-2\" class=\"sk-toggleable__label sk-toggleable__label-arrow\">discrete</label><div class=\"sk-toggleable__content\"><pre>[]</pre></div></div></div><div class=\"sk-serial\"><div class=\"sk-item\"><div class=\"sk-serial\"><div class=\"sk-item\"><div class=\"sk-estimator sk-toggleable\"><input class=\"sk-toggleable__control sk-hidden--visually\" id=\"sk-estimator-id-3\" type=\"checkbox\" ><label for=\"sk-estimator-id-3\" class=\"sk-toggleable__label sk-toggleable__label-arrow\">SimpleImputer</label><div class=\"sk-toggleable__content\"><pre>SimpleImputer()</pre></div></div></div><div class=\"sk-item\"><div class=\"sk-estimator sk-toggleable\"><input class=\"sk-toggleable__control sk-hidden--visually\" id=\"sk-estimator-id-4\" type=\"checkbox\" ><label for=\"sk-estimator-id-4\" class=\"sk-toggleable__label sk-toggleable__label-arrow\">MinMaxScaler</label><div class=\"sk-toggleable__content\"><pre>MinMaxScaler()</pre></div></div></div></div></div></div></div></div><div class=\"sk-parallel-item\"><div class=\"sk-item\"><div class=\"sk-label-container\"><div class=\"sk-label sk-toggleable\"><input class=\"sk-toggleable__control sk-hidden--visually\" id=\"sk-estimator-id-5\" type=\"checkbox\" ><label for=\"sk-estimator-id-5\" class=\"sk-toggleable__label sk-toggleable__label-arrow\">nominal</label><div class=\"sk-toggleable__content\"><pre>[]</pre></div></div></div><div class=\"sk-serial\"><div class=\"sk-item\"><div class=\"sk-estimator sk-toggleable\"><input class=\"sk-toggleable__control sk-hidden--visually\" id=\"sk-estimator-id-6\" type=\"checkbox\" ><label for=\"sk-estimator-id-6\" class=\"sk-toggleable__label sk-toggleable__label-arrow\">tuple</label><div class=\"sk-toggleable__content\"><pre>(Pipeline(steps=[(&#x27;missing&#x27;, SimpleImputer(strategy=&#x27;most_frequent&#x27;)),\n",
              "                (&#x27;encoder&#x27;, OneHotEncoder(sparse=False)),\n",
              "                (&#x27;normalization&#x27;, MinMaxScaler())]),)</pre></div></div></div></div></div></div><div class=\"sk-parallel-item\"><div class=\"sk-item\"><div class=\"sk-label-container\"><div class=\"sk-label sk-toggleable\"><input class=\"sk-toggleable__control sk-hidden--visually\" id=\"sk-estimator-id-7\" type=\"checkbox\" ><label for=\"sk-estimator-id-7\" class=\"sk-toggleable__label sk-toggleable__label-arrow\">continuous</label><div class=\"sk-toggleable__content\"><pre>[]</pre></div></div></div><div class=\"sk-serial\"><div class=\"sk-item\"><div class=\"sk-estimator sk-toggleable\"><input class=\"sk-toggleable__control sk-hidden--visually\" id=\"sk-estimator-id-8\" type=\"checkbox\" ><label for=\"sk-estimator-id-8\" class=\"sk-toggleable__label sk-toggleable__label-arrow\">tuple</label><div class=\"sk-toggleable__content\"><pre>(Pipeline(steps=[(&#x27;missing&#x27;, KNNImputer()), (&#x27;normalization&#x27;, RobustScaler())]),)</pre></div></div></div></div></div></div><div class=\"sk-parallel-item\"><div class=\"sk-item\"><div class=\"sk-label-container\"><div class=\"sk-label sk-toggleable\"><input class=\"sk-toggleable__control sk-hidden--visually\" id=\"sk-estimator-id-9\" type=\"checkbox\" ><label for=\"sk-estimator-id-9\" class=\"sk-toggleable__label sk-toggleable__label-arrow\">ordinal</label><div class=\"sk-toggleable__content\"><pre>[]</pre></div></div></div><div class=\"sk-serial\"><div class=\"sk-item\"><div class=\"sk-serial\"><div class=\"sk-item\"><div class=\"sk-estimator sk-toggleable\"><input class=\"sk-toggleable__control sk-hidden--visually\" id=\"sk-estimator-id-10\" type=\"checkbox\" ><label for=\"sk-estimator-id-10\" class=\"sk-toggleable__label sk-toggleable__label-arrow\">SimpleImputer</label><div class=\"sk-toggleable__content\"><pre>SimpleImputer(strategy=&#x27;most_frequent&#x27;)</pre></div></div></div><div class=\"sk-item\"><div class=\"sk-estimator sk-toggleable\"><input class=\"sk-toggleable__control sk-hidden--visually\" id=\"sk-estimator-id-11\" type=\"checkbox\" ><label for=\"sk-estimator-id-11\" class=\"sk-toggleable__label sk-toggleable__label-arrow\">OneHotEncoder</label><div class=\"sk-toggleable__content\"><pre>OneHotEncoder(sparse=False)</pre></div></div></div><div class=\"sk-item\"><div class=\"sk-estimator sk-toggleable\"><input class=\"sk-toggleable__control sk-hidden--visually\" id=\"sk-estimator-id-12\" type=\"checkbox\" ><label for=\"sk-estimator-id-12\" class=\"sk-toggleable__label sk-toggleable__label-arrow\">MinMaxScaler</label><div class=\"sk-toggleable__content\"><pre>MinMaxScaler()</pre></div></div></div></div></div></div></div></div></div></div></div></div>"
            ],
            "text/plain": [
              "ColumnTransformer(transformers=[('discrete',\n",
              "                                 Pipeline(steps=[('missing', SimpleImputer()),\n",
              "                                                 ('normalization',\n",
              "                                                  MinMaxScaler())]),\n",
              "                                 []),\n",
              "                                ('nominal',\n",
              "                                 (Pipeline(steps=[('missing',\n",
              "                                                   SimpleImputer(strategy='most_frequent')),\n",
              "                                                  ('encoder',\n",
              "                                                   OneHotEncoder(sparse=False)),\n",
              "                                                  ('normalization',\n",
              "                                                   MinMaxScaler())]),),\n",
              "                                 []),\n",
              "                                ('continuous',\n",
              "                                 (Pipeline(steps=[('missing', KNNImputer()),\n",
              "                                                  ('normalization',\n",
              "                                                   RobustScaler())]),),\n",
              "                                 []),\n",
              "                                ('ordinal',\n",
              "                                 Pipeline(steps=[('missing',\n",
              "                                                  SimpleImputer(strategy='most_frequent')),\n",
              "                                                 ('encoder',\n",
              "                                                  OneHotEncoder(sparse=False)),\n",
              "                                                 ('normalization',\n",
              "                                                  MinMaxScaler())]),\n",
              "                                 [])])"
            ]
          },
          "execution_count": 15,
          "metadata": {},
          "output_type": "execute_result"
        }
      ],
      "source": [
        "# Transformando os dados utilizando os pré-processadores criados acima\n",
        "preprocessing = ColumnTransformer([\n",
        "    (\"discrete\", discrete_preprocessor, discrete_columns),\n",
        "    (\"nominal\", nominal_preprocessor, nominal_columns),\n",
        "    (\"continuous\", continuous_preprocessor, continuous_columns),\n",
        "    (\"ordinal\", ordinal_preprocessor, ordinal_columns)\n",
        "])\n",
        "preprocessing"
      ]
    },
    {
      "cell_type": "markdown",
      "metadata": {
        "id": "UM9eoJndY_De"
      },
      "source": [
        "## Metodologia"
      ]
    },
    {
      "cell_type": "markdown",
      "metadata": {
        "id": "4v7vWuSIZdR0"
      },
      "source": [
        "Será utilizado o método de validação cruzada **k-fold**. Além disso, serão apresentados os seguintes modelos:\n",
        "\n",
        "- Regressão Linear\n",
        "\n",
        "- Randon forest\n",
        "\n",
        "- Gradiente\n"
      ]
    },
    {
      "cell_type": "markdown",
      "metadata": {
        "id": "VyabnPw_ZAyq"
      },
      "source": [
        "## Configuração do experimento"
      ]
    },
    {
      "cell_type": "markdown",
      "metadata": {
        "id": "cMxmRhBwyCJW"
      },
      "source": [
        "- Separar o conjunto em treino e teste"
      ]
    },
    {
      "cell_type": "code",
      "execution_count": 16,
      "metadata": {
        "id": "cK5N_H5yrZ0t"
      },
      "outputs": [],
      "source": [
        "X = df_day.drop(columns=[target_column], axis=1)\n",
        "y = (\n",
        "    df_day[[target_column]]\n",
        "    .replace({\"YES\": 1, \"NO\": 0})\n",
        "    .to_numpy()\n",
        "    .ravel()\n",
        ")"
      ]
    },
    {
      "cell_type": "code",
      "execution_count": 19,
      "metadata": {
        "id": "SK2mALbZvfYe"
      },
      "outputs": [],
      "source": [
        "X_train, X_test, y_train, y_test = train_test_split (X, y, test_size=.2)"
      ]
    },
    {
      "cell_type": "markdown",
      "metadata": {
        "id": "OaJJGGeWZlc6"
      },
      "source": [
        "- Realizar teste com os modelos definidos"
      ]
    },
    {
      "cell_type": "code",
      "execution_count": 31,
      "metadata": {
        "colab": {
          "base_uri": "https://localhost:8080/"
        },
        "id": "p3aIctIhqcCt",
        "outputId": "533317ad-a73a-4cb3-d2d4-2aedd5b37e7b"
      },
      "outputs": [
        {
          "name": "stdout",
          "output_type": "stream",
          "text": [
            "881656.4682059501\n"
          ]
        }
      ],
      "source": [
        "# validação cruzada\n",
        "\n",
        "model = LinearRegression()\n",
        "\n",
        "# validação cruzada\n",
        "\n",
        "model.fit(X_train, y_train)\n",
        "y_test_hat = model.predict(X_test)\n",
        "\n",
        "mse = mean_squared_error(y_test, y_test_hat)\n",
        "print(mse)"
      ]
    },
    {
      "cell_type": "markdown",
      "metadata": {
        "id": "sHNpPxQhZBzQ"
      },
      "source": [
        "## Resultados e discussão"
      ]
    },
    {
      "cell_type": "markdown",
      "metadata": {
        "id": "D_u9_7yTZydC"
      },
      "source": [
        "- Expor em uma tabela a comparação dos modelos para explicar qual deles melhor se encaixa para o projeto"
      ]
    },
    {
      "cell_type": "code",
      "execution_count": null,
      "metadata": {
        "id": "ht8TDT-Ax-IY"
      },
      "outputs": [],
      "source": []
    }
  ],
  "metadata": {
    "colab": {
      "provenance": []
    },
    "kernelspec": {
      "display_name": "Python 3",
      "name": "python3"
    },
    "language_info": {
      "codemirror_mode": {
        "name": "ipython",
        "version": 3
      },
      "file_extension": ".py",
      "mimetype": "text/x-python",
      "name": "python",
      "nbconvert_exporter": "python",
      "pygments_lexer": "ipython3",
      "version": "3.11.5"
    }
  },
  "nbformat": 4,
  "nbformat_minor": 0
}
