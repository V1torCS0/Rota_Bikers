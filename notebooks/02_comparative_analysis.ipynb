{
  "nbformat": 4,
  "nbformat_minor": 0,
  "metadata": {
    "colab": {
      "provenance": []
    },
    "kernelspec": {
      "name": "python3",
      "display_name": "Python 3"
    },
    "language_info": {
      "name": "python"
    }
  },
  "cells": [
    {
      "cell_type": "markdown",
      "source": [
        "# Análise Comparativa\n"
      ],
      "metadata": {
        "id": "td9rTTfbWTVt"
      }
    },
    {
      "cell_type": "markdown",
      "source": [
        "Essa etapa tem como objetivo comparar alguns modelos para encontrar um que possa ser melhor utilizado dentro do problema, para isso antes realizamos a preparação e o pré-processamento dos dados."
      ],
      "metadata": {
        "id": "RTxT--EOWXI2"
      }
    },
    {
      "cell_type": "markdown",
      "source": [
        "## Preparação dos dados"
      ],
      "metadata": {
        "id": "mdp_i_zVWpbe"
      }
    },
    {
      "cell_type": "code",
      "execution_count": 1,
      "metadata": {
        "id": "f7MsxC1QWPcB"
      },
      "outputs": [],
      "source": [
        "from IPython.display import Markdown\n",
        "import pandas as pd\n",
        "import numpy as np\n",
        "from sklearn.pipeline import Pipeline\n",
        "from sklearn.impute import SimpleImputer\n",
        "from sklearn.preprocessing import MinMaxScaler, OneHotEncoder\n",
        "from sklearn.base import BaseEstimator, TransformerMixin\n",
        "from sklearn.compose import ColumnTransformer\n",
        "from sklearn.svm import SVC\n",
        "from sklearn.metrics import accuracy_score\n",
        "from sklearn.model_selection import cross_validate, ShuffleSplit, GridSearchCV\n",
        "from sklearn.linear_model import LogisticRegression\n",
        "from sklearn.neighbors import KNeighborsClassifier\n",
        "from sklearn.naive_bayes import BernoulliNB"
      ]
    },
    {
      "cell_type": "code",
      "source": [
        "# Ler o csv\n",
        "df_day = pd.read_csv('day.csv')\n",
        "\n",
        "# Ler o dicionário de dados\n",
        "dicionario_dados_day = pd.read_csv('dicionario_dados_day.csv')"
      ],
      "metadata": {
        "id": "ZFbI_hLVW7cz"
      },
      "execution_count": 9,
      "outputs": []
    },
    {
      "cell_type": "markdown",
      "source": [
        "### Tratamento dos dados"
      ],
      "metadata": {
        "id": "4x_XBTyLYYQu"
      }
    },
    {
      "cell_type": "markdown",
      "source": [
        "Aqui realizamos a normalização, codificação e o tratamento de dados discrepantes e/ou faltantes dentro do conjunto de dados"
      ],
      "metadata": {
        "id": "CWa8oRTHYqvk"
      }
    },
    {
      "cell_type": "markdown",
      "source": [
        "## Metodologia"
      ],
      "metadata": {
        "id": "UM9eoJndY_De"
      }
    },
    {
      "cell_type": "markdown",
      "source": [
        "\"A equipe deve utilizar um método de validação cruzada (holdout, k-fold, Monte Carlo) apresentado em sala de aula;\n",
        " A equipe deve apresentar no mínimo quatro modelos: um baseline, para servir de comparação a pelo menos outros três (ou mais) experimentos com modelos de famílias diferentes. Deverão ser utilizadas pelo menos duas métricas para efetuar a comparação entre os modelos\""
      ],
      "metadata": {
        "id": "4v7vWuSIZdR0"
      }
    },
    {
      "cell_type": "markdown",
      "source": [
        "## Configuração do experimento"
      ],
      "metadata": {
        "id": "VyabnPw_ZAyq"
      }
    },
    {
      "cell_type": "markdown",
      "source": [
        "- Separar o conjunto em teste e treino\n",
        "- Realizar teste com os modelos definidos"
      ],
      "metadata": {
        "id": "OaJJGGeWZlc6"
      }
    },
    {
      "cell_type": "markdown",
      "source": [
        "## Resultados e discussão"
      ],
      "metadata": {
        "id": "sHNpPxQhZBzQ"
      }
    },
    {
      "cell_type": "markdown",
      "source": [
        "- Expor em uma tabela a comparação dos modelos para explicar qual deles melhor se encaixa para o projeto"
      ],
      "metadata": {
        "id": "D_u9_7yTZydC"
      }
    },
    {
      "cell_type": "code",
      "source": [],
      "metadata": {
        "id": "V1rp3xuQXI4T"
      },
      "execution_count": null,
      "outputs": []
    }
  ]
}